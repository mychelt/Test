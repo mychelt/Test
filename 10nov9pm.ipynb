{
 "cells": [
  {
   "cell_type": "code",
   "execution_count": 6,
   "id": "9523ad04-3305-46f4-aaf3-055bf01d67bb",
   "metadata": {},
   "outputs": [
    {
     "name": "stdout",
     "output_type": "stream",
     "text": [
      "['mak', 'andy', 'ram', 1, True, 1.2]\n",
      "mak\n",
      "andy\n",
      "ram\n",
      "1\n",
      "True\n",
      "1.2\n",
      "<class 'list'>\n"
     ]
    }
   ],
   "source": [
    "#list : array \n",
    "# help(list)\n",
    "#they are mutable, ordwered, can be indexed, it allows duplicates\n",
    "li = [\"mak\",\"andy\",\"ram\",1,True,1.2]\n",
    "print(li)\n",
    "\n",
    "for i in li:\n",
    "    print(i)\n",
    "\n",
    "print(type(li))"
   ]
  },
  {
   "cell_type": "code",
   "execution_count": 5,
   "id": "1f0fe7ff-f5e5-4b5e-8713-8c473786d7af",
   "metadata": {},
   "outputs": [
    {
     "name": "stdout",
     "output_type": "stream",
     "text": [
      "6\n"
     ]
    }
   ],
   "source": [
    "print(len(li))\n",
    "li=[]\n",
    "x=list()"
   ]
  },
  {
   "cell_type": "code",
   "execution_count": 10,
   "id": "dc4dcf11-49de-4906-a437-7cae60242a9b",
   "metadata": {},
   "outputs": [
    {
     "name": "stdout",
     "output_type": "stream",
     "text": [
      "True\n"
     ]
    }
   ],
   "source": [
    "# Create an empty list and assign it to the variable \"empty\".\n",
    "empty = []\n",
    "\n",
    "\n",
    "# Create a list with a single Boolean — True — and assign it to the variable \"active\".\n",
    "active = [True]\n",
    "\n",
    "# Create a list with 5 integers of your choice and assign it to the variable \"favorite_numbers\".\n",
    "\n",
    "\n",
    "# Create a list with 3 strings  — \"red\", \"green\", \"blue\" — and assign it to the variable \"colors\".\n",
    "\n",
    "\n",
    "# Declare an is_long function that accepts a single list as an argument\n",
    "# It should return True if the list has more than 5 elements, and False otherwise\n",
    "\n",
    "def is_long(li):\n",
    "    # if len(li)>5:\n",
    "    #     return True\n",
    "    # return False\n",
    "    return len(li)>5\n",
    "print(is_long([1,2,3,4,5,6]))"
   ]
  },
  {
   "cell_type": "code",
   "execution_count": 12,
   "id": "bb1505b2-014a-40c2-996f-0f7596372707",
   "metadata": {},
   "outputs": [
    {
     "name": "stdout",
     "output_type": "stream",
     "text": [
      "False\n"
     ]
    }
   ],
   "source": [
    "#membership opertor==> in and not in \n",
    "li = [1,2,3,4,56,7]\n",
    "print(2 not in li)"
   ]
  },
  {
   "cell_type": "code",
   "execution_count": 18,
   "id": "c9d72346-e440-4b1d-b2fa-fcf8d2b88636",
   "metadata": {},
   "outputs": [
    {
     "name": "stdout",
     "output_type": "stream",
     "text": [
      "ram\n"
     ]
    },
    {
     "data": {
      "text/plain": [
       "[1, 1.2]"
      ]
     },
     "execution_count": 18,
     "metadata": {},
     "output_type": "execute_result"
    }
   ],
   "source": [
    "#selecting elements by +ve and -ve numbers\n",
    "li = [\"mak\",\"andy\",\"ram\",1,True,1.2]\n",
    "print(li[-4])\n",
    "\n",
    "#list slicing by rnge and steps \n",
    "li[3:100:2]"
   ]
  },
  {
   "cell_type": "code",
   "execution_count": 24,
   "id": "1e2e4006-1cf8-4a8c-ae6d-27487404e08e",
   "metadata": {},
   "outputs": [
    {
     "name": "stdout",
     "output_type": "stream",
     "text": [
      "mak\n",
      "you have won\n",
      "andy\n",
      "ram\n",
      "1\n",
      "True\n",
      "1.2\n"
     ]
    }
   ],
   "source": [
    "#list iteration\n",
    "li = [\"mak\",\"andy\",\"ram\",1,True,1.2]\n",
    "# for i in li:\n",
    "#     print(i)\n",
    "\n",
    "#iteration wih conditional logic\n",
    "for i in li:\n",
    "    print(i)\n",
    "    if i==\"mak\":\n",
    "        print(\"you have won\")\n",
    "        continue\n",
    "    \n",
    "    \n"
   ]
  },
  {
   "cell_type": "code",
   "execution_count": 30,
   "id": "9ef5f928-1963-487e-8349-3000e29a601c",
   "metadata": {},
   "outputs": [
    {
     "name": "stdout",
     "output_type": "stream",
     "text": [
      "1.2\n",
      "True\n",
      "1\n",
      "ram\n",
      "andy\n",
      "mak\n"
     ]
    }
   ],
   "source": [
    "# dir(list)\n",
    "#reversed function\n",
    "li = [\"mak\",\"andy\",\"ram\",1,True,1.2]\n",
    "# print(li[::-1])\n",
    "for i in reversed(li):\n",
    "    print(i)"
   ]
  },
  {
   "cell_type": "code",
   "execution_count": 33,
   "id": "1b43bf29-8933-4f03-a964-8a748d243419",
   "metadata": {},
   "outputs": [
    {
     "name": "stdout",
     "output_type": "stream",
     "text": [
      "['mak', 1, 2, 3, 4, 5, 6, 7, 8, 9, 10]\n"
     ]
    }
   ],
   "source": [
    "#append method\n",
    "li=[\"mak\"]\n",
    "for i in range(1,11):\n",
    "    li.append(i)\n",
    "print(li)"
   ]
  },
  {
   "cell_type": "code",
   "execution_count": 32,
   "id": "967d5438-0b1c-4f3b-b1f5-da33d9962f66",
   "metadata": {},
   "outputs": [
    {
     "data": {
      "text/plain": [
       "['mak']"
      ]
     },
     "execution_count": 32,
     "metadata": {},
     "output_type": "execute_result"
    }
   ],
   "source": [
    "# x=[]\n",
    "# x.append(\"mak\")\n",
    "# x"
   ]
  },
  {
   "cell_type": "code",
   "execution_count": 35,
   "id": "c921404d-90b0-427e-8d94-60703298283e",
   "metadata": {},
   "outputs": [
    {
     "name": "stdout",
     "output_type": "stream",
     "text": [
      "0 mak\n",
      "1 andy\n",
      "2 ram\n",
      "3 1\n",
      "4 True\n",
      "5 1.2\n"
     ]
    }
   ],
   "source": [
    "#enumerate function\n",
    "li = [\"mak\",\"andy\",\"ram\",1,True,1.2]\n",
    "for i,j in enumerate(li):\n",
    "    print(i,j)\n",
    "    "
   ]
  },
  {
   "cell_type": "code",
   "execution_count": 47,
   "id": "2e76e757-0af0-4065-b902-d6551ea403e2",
   "metadata": {},
   "outputs": [
    {
     "data": {
      "text/plain": [
       "['mak', 'andy', 'ram', 1, True, 1.2]"
      ]
     },
     "execution_count": 47,
     "metadata": {},
     "output_type": "execute_result"
    }
   ],
   "source": [
    "#list mutation\n",
    "li = [\"mak\",\"andy\",\"ram\",1,True,1.2]\n",
    "#assign value to our list\n",
    "# li[3] = \"madhvendra\"\n",
    "li[0:100] \n",
    "li"
   ]
  },
  {
   "cell_type": "code",
   "execution_count": 59,
   "id": "d6bc2004-6a1d-4738-89d7-3eba15ca3932",
   "metadata": {},
   "outputs": [
    {
     "name": "stdout",
     "output_type": "stream",
     "text": [
      "[2, 4, 6]\n"
     ]
    }
   ],
   "source": [
    "#building a list from another list\n",
    "li = [1,2,3,4,5,6,7]\n",
    "new_li = []\n",
    "for i in li:\n",
    "    if i%2==0:\n",
    "        new_li.append(i)\n",
    "print(new_li)\n",
    "        \n",
    "\n",
    "#insert method\n",
    "# li.insert(3,\"mak\")\n",
    "# li"
   ]
  },
  {
   "cell_type": "code",
   "execution_count": 56,
   "id": "0d3dfc84-ffe8-493a-8378-f7f5db8f1cc5",
   "metadata": {},
   "outputs": [
    {
     "name": "stdout",
     "output_type": "stream",
     "text": [
      "1\n",
      "1\n"
     ]
    }
   ],
   "source": [
    "print(10%3)\n",
    "print(21%4)"
   ]
  },
  {
   "cell_type": "code",
   "execution_count": null,
   "id": "c3b80f1f-dfa3-449b-a067-f372bada3797",
   "metadata": {},
   "outputs": [],
   "source": [
    "print(1%2)"
   ]
  },
  {
   "cell_type": "code",
   "execution_count": null,
   "id": "fcc7565c-7f3d-4513-a492-d28cc856d13f",
   "metadata": {},
   "outputs": [],
   "source": [
    "# Define a smallest_number function  that accepts a list of numbers.\n",
    "# It should return the smallest value in the list.\n",
    "#\n",
    "# smallest_number([1, 2, 3])     =&gt; 1\n",
    "# smallest_number([3, 2, 1])     =&gt; 1\n",
    "# smallest_number([4, 5, 4])     =&gt; 4\n",
    "# smallest_number([-3, -2, -1])  =&gt; -3"
   ]
  },
  {
   "cell_type": "code",
   "execution_count": null,
   "id": "13345599-90f4-4bfe-b583-fe6b6ee7d634",
   "metadata": {},
   "outputs": [],
   "source": [
    "# Define a concatenate function that accepts a list of strings. \n",
    "#\n",
    "# The function should return a concatenated string which consists of\n",
    "# all list elements whose length is greater than 2 characters.\n",
    "#\n",
    "# concatenate([\"abc\", \"def\", \"ghi\"])      =&gt; \"abcdefghi\"\n",
    "# concatenate([\"abc\", \"de\", \"fgh\", \"ic\"]) =&gt; \"abcfgh\"\n",
    "# concatenate([\"ab\", \"cd\", \"ef\", \"gh\"])   =&gt; \"\"\n"
   ]
  },
  {
   "cell_type": "code",
   "execution_count": null,
   "id": "9f4b1b6f-a057-49dc-9ad5-c3c5a8904ed5",
   "metadata": {},
   "outputs": [],
   "source": [
    "# Define a super_sum function that accepts a list of strings. \n",
    "# The function should sum the index positions of the first occurence of the letter “s” in each word. \n",
    "#\n",
    "# Not every word is guaranteed to have an “s”.\n",
    "# Don’t use \"sum\" as a variable name as it’s a built-in keyword.\n",
    "#\n",
    "# super_sum([])                                 =&gt; 0\n",
    "# super_sum([\"mustache\"])                       =&gt; 2\n",
    "# super_sum([\"mustache\", \"greatest\"])           =&gt; 8\n",
    "# super_sum([\"mustache\", \"pessimist\"])          =&gt; 4\n",
    "# super_sum([\"mustache\", \"greatest\", \"almost\"]) =&gt; 12"
   ]
  },
  {
   "cell_type": "code",
   "execution_count": null,
   "id": "ec5c883d-4050-4ab9-b606-c50ed1e99415",
   "metadata": {},
   "outputs": [],
   "source": [
    "# Define an in_list function that accepts a list of strings and a separate string.\n",
    "# Return the index where the string exists in the list.\n",
    "# If the string does not exist, return -1.\n",
    "# Do NOT use the find or index methods.\n",
    "#\n",
    "# EXAMPLES\n",
    "# strings = [\"enchanted\", \"sparks fly\", \"long live\"]\n",
    "# in_list(strings, \"enchanted\")  ==> 0\n",
    "# in_list(strings, \"sparks fly\") ==> 1\n",
    "# in_list(strings, \"fifteen\")    ==> -1\n",
    "# in_list(strings, \"love story\") ==> -1"
   ]
  },
  {
   "cell_type": "code",
   "execution_count": null,
   "id": "3434add7-d06d-4278-9338-c7708a83d60f",
   "metadata": {},
   "outputs": [],
   "source": [
    "# Define a sum_of_values_and_indices function that accepts a list of numbers. \n",
    "# It should return the sum of all of the elements along with their index values.\n",
    "#\n",
    "# EXAMPLES\n",
    "# sum_of_values_and_indices([1, 2, 3])    => (1 + 0) + (2 + 1) + (3 + 2) => 9\n",
    "# sum_of_values_and_indices([0, 0, 0, 0]) => 6\n",
    "# sum_of_values_and_indices([])           => 0"
   ]
  },
  {
   "cell_type": "code",
   "execution_count": null,
   "id": "b56d03c5-d962-41c0-9aef-8b1f5d2c1ae1",
   "metadata": {},
   "outputs": [],
   "source": [
    "# Declare a length_match function that accepts a list of strings and an integer.\n",
    "# It should return a count of the number of strings whose length is equal to the number.\n",
    "#\n",
    "# EXAMPLES\n",
    "# length_match([\"cat\", \"dog\", \"kangaroo\", \"mouse\"], 3))  => 2\n",
    "# length_match([\"cat\", \"dog\", \"kangaroo\", \"mouse\"], 5))  => 1\n",
    "# length_match([\"cat\", \"dog\", \"kangaroo\", \"mouse\"], 4))  => 0\n",
    "# length_match([], 5))                                   => 0\n"
   ]
  },
  {
   "cell_type": "code",
   "execution_count": null,
   "id": "2174bc83-abcb-420f-a384-7beedb626a7f",
   "metadata": {},
   "outputs": [],
   "source": [
    "# Declare a sum_from function that accepts two numbers as arguments.\n",
    "# The second number will always be greater than the first number.\n",
    "# The function should return the sum of all numbers from the first number to the second number (inclusive).\n",
    "#\n",
    "# EXAMPLES\n",
    "# sum_from(1, 2)   # 1 + 2                  => 3\n",
    "# sum_from(1, 5)   # 1 + 2 + 3 + 4 + 5      => 15\n",
    "# sum_from(3, 8)   # 3 + 4 + 5 + 6 + 7 + 8  => 33\n",
    "# sum_from(9, 12)  # 9 + 10 + 11 + 12       => 42"
   ]
  },
  {
   "cell_type": "code",
   "execution_count": null,
   "id": "4093afe2-3957-481a-8cb1-426a89a63b47",
   "metadata": {},
   "outputs": [],
   "source": [
    "# Declare a same_index_values function that accepts two lists.\n",
    "# The function should return a list of the index positions in which the two lists have equal elements\n",
    "#\n",
    "# EXAMPLES\n",
    "# same_index_values([1, 2, 3], [3, 2, 1])                         => [1]\n",
    "# same_index_values([\"a\", \"b\", \"c\", \"d\"], [\"c\", \"b\", \"a\", \"d\"])   => [1, 3]"
   ]
  },
  {
   "cell_type": "code",
   "execution_count": null,
   "id": "ca1639d5-e44c-4cce-89df-dd373d912773",
   "metadata": {},
   "outputs": [],
   "source": [
    "# Define an only_evens function that accepts a list of numbers. \n",
    "# It should return a new list consisting of only the even numbers from the original list.\n",
    "#\n",
    "# EXAMPLES\n",
    "# only_evens([4, 8, 15, 16, 23, 42]) => [4, 8, 16, 42]\n",
    "# only_evens([1, 3, 5])              => []\n",
    "# only_evens([])                     => []"
   ]
  },
  {
   "cell_type": "code",
   "execution_count": null,
   "id": "8fa7f692-a903-407e-9bc8-0dc7b11c3e6a",
   "metadata": {},
   "outputs": [],
   "source": []
  }
 ],
 "metadata": {
  "kernelspec": {
   "display_name": "Python 3 (ipykernel)",
   "language": "python",
   "name": "python3"
  },
  "language_info": {
   "codemirror_mode": {
    "name": "ipython",
    "version": 3
   },
   "file_extension": ".py",
   "mimetype": "text/x-python",
   "name": "python",
   "nbconvert_exporter": "python",
   "pygments_lexer": "ipython3",
   "version": "3.11.7"
  }
 },
 "nbformat": 4,
 "nbformat_minor": 5
}
